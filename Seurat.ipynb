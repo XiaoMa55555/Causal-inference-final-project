{
  "nbformat": 4,
  "nbformat_minor": 0,
  "metadata": {
    "colab": {
      "name": "Seurat.ipynb",
      "provenance": [],
      "authorship_tag": "ABX9TyPzlzGwwAqtWT3dkojJawSR",
      "include_colab_link": true
    },
    "kernelspec": {
      "name": "ir",
      "display_name": "R"
    },
    "language_info": {
      "name": "R"
    }
  },
  "cells": [
    {
      "cell_type": "markdown",
      "metadata": {
        "id": "view-in-github",
        "colab_type": "text"
      },
      "source": [
        "<a href=\"https://colab.research.google.com/github/XiaoMa55555/Causal-inference-final-project/blob/master/Seurat.ipynb\" target=\"_parent\"><img src=\"https://colab.research.google.com/assets/colab-badge.svg\" alt=\"Open In Colab\"/></a>"
      ]
    },
    {
      "cell_type": "code",
      "execution_count": null,
      "metadata": {
        "colab": {
          "base_uri": "https://localhost:8080/"
        },
        "id": "URj_6WERYL2W",
        "outputId": "33f40f65-0d66-4723-fe96-b0960efb8337"
      },
      "outputs": [
        {
          "output_type": "stream",
          "name": "stderr",
          "text": [
            "Installing package into ‘/usr/local/lib/R/site-library’\n",
            "(as ‘lib’ is unspecified)\n",
            "\n",
            "also installing the dependencies ‘promises’, ‘reshape2’, ‘RcppArmadillo’, ‘httpuv’, ‘later’, ‘spatstat.random’, ‘RSpectra’, ‘dqrng’, ‘future.apply’, ‘ggrepel’, ‘ggridges’, ‘leiden’, ‘miniUI’, ‘patchwork’, ‘plotly’, ‘RcppAnnoy’, ‘reticulate’, ‘ROCR’, ‘Rtsne’, ‘sctransform’, ‘SeuratObject’, ‘shiny’, ‘spatstat.core’, ‘spatstat.geom’, ‘uwot’, ‘RcppEigen’\n",
            "\n",
            "\n",
            "Warning message in install.packages(\"Seurat\"):\n",
            "“installation of package ‘later’ had non-zero exit status”\n",
            "Warning message in install.packages(\"Seurat\"):\n",
            "“installation of package ‘ggrepel’ had non-zero exit status”\n",
            "Warning message in install.packages(\"Seurat\"):\n",
            "“installation of package ‘patchwork’ had non-zero exit status”\n",
            "Warning message in install.packages(\"Seurat\"):\n",
            "“installation of package ‘RcppAnnoy’ had non-zero exit status”\n",
            "Warning message in install.packages(\"Seurat\"):\n",
            "“installation of package ‘reticulate’ had non-zero exit status”\n"
          ]
        }
      ],
      "source": [
        "system('add-apt-repository -y ppa:cran/imagemagick')\n",
        "system('apt-get update')\n",
        "system(\"apt-get install libmagick++-dev\")\n",
        "install.packages(\"Seurat\")\n",
        "install.packages(\"patchwork\")\n",
        "library(dplyr)\n",
        "library(Seurat)\n",
        "library(patchwork)\n"
      ]
    },
    {
      "cell_type": "code",
      "source": [
        ""
      ],
      "metadata": {
        "colab": {
          "base_uri": "https://localhost:8080/"
        },
        "id": "OPFgp6bmkzMB",
        "outputId": "05e76ea8-8573-4fa7-88b7-0f24b0110a09"
      },
      "execution_count": 7,
      "outputs": [
        {
          "output_type": "stream",
          "name": "stderr",
          "text": [
            "Installing package into ‘/usr/local/lib/R/site-library’\n",
            "(as ‘lib’ is unspecified)\n",
            "\n",
            "also installing the dependencies ‘promises’, ‘httpuv’, ‘later’, ‘spatstat.random’, ‘RSpectra’, ‘ggrepel’, ‘leiden’, ‘miniUI’, ‘patchwork’, ‘plotly’, ‘RcppAnnoy’, ‘reticulate’, ‘Rtsne’, ‘sctransform’, ‘SeuratObject’, ‘shiny’, ‘spatstat.core’, ‘spatstat.geom’, ‘uwot’, ‘RcppEigen’\n",
            "\n",
            "\n",
            "Warning message in install.packages(\"Seurat\"):\n",
            "“installation of package ‘ggrepel’ had non-zero exit status”\n",
            "Warning message in install.packages(\"Seurat\"):\n",
            "“installation of package ‘patchwork’ had non-zero exit status”\n",
            "Warning message in install.packages(\"Seurat\"):\n",
            "“installation of package ‘Rtsne’ had non-zero exit status”\n",
            "Warning message in install.packages(\"Seurat\"):\n",
            "“installation of package ‘uwot’ had non-zero exit status”\n",
            "Warning message in install.packages(\"Seurat\"):\n",
            "“installation of package ‘shiny’ had non-zero exit status”\n",
            "Warning message in install.packages(\"Seurat\"):\n",
            "“installation of package ‘miniUI’ had non-zero exit status”\n",
            "Warning message in install.packages(\"Seurat\"):\n",
            "“installation of package ‘Seurat’ had non-zero exit status”\n"
          ]
        }
      ]
    },
    {
      "cell_type": "code",
      "source": [
        "R.version.string"
      ],
      "metadata": {
        "colab": {
          "base_uri": "https://localhost:8080/",
          "height": 34
        },
        "id": "sDnBLBxekBcR",
        "outputId": "f1ec8987-fbab-4d11-f875-d2a1581f6d57"
      },
      "execution_count": 5,
      "outputs": [
        {
          "output_type": "display_data",
          "data": {
            "text/html": [
              "'R version 4.2.0 (2022-04-22)'"
            ],
            "text/markdown": "'R version 4.2.0 (2022-04-22)'",
            "text/latex": "'R version 4.2.0 (2022-04-22)'",
            "text/plain": [
              "[1] \"R version 4.2.0 (2022-04-22)\""
            ]
          },
          "metadata": {}
        }
      ]
    },
    {
      "cell_type": "code",
      "source": [
        "system('add-apt-repository -y ppa:cran/imagemagick')\n",
        "system('apt-get update')\n",
        "system(\"apt-get install libmagick++-dev\")"
      ],
      "metadata": {
        "id": "XMCzqbz8jdgh"
      },
      "execution_count": 6,
      "outputs": []
    }
  ]
}